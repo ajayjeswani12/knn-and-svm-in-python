{
  "nbformat": 4,
  "nbformat_minor": 0,
  "metadata": {
    "colab": {
      "name": "svm with feature selection without hyper tuning.ipynb",
      "provenance": []
    },
    "kernelspec": {
      "name": "python3",
      "display_name": "Python 3"
    },
    "language_info": {
      "name": "python"
    }
  },
  "cells": [
    {
      "cell_type": "code",
      "execution_count": null,
      "metadata": {
        "id": "hbAK9fsJ2qdE"
      },
      "outputs": [],
      "source": [
        "import pandas as pd\n",
        "import numpy as np\n",
        "import seaborn as sns\n",
        "import matplotlib.pyplot as plt\n",
        "%matplotlib inline\n",
        "\n",
        "from sklearn.model_selection import train_test_split\n",
        "\n",
        "import statsmodels.api as sm\n",
        "\n",
        "from scipy import stats\n",
        "\n",
        "from sklearn import metrics\n",
        "from sklearn.linear_model import LogisticRegression\n",
        "from sklearn.neighbors import KNeighborsClassifier\n",
        "# To model the Gaussian Navie Bayes classifier\n",
        "from sklearn.naive_bayes import GaussianNB\n",
        "from sklearn.metrics import classification_report,confusion_matrix,f1_score\n",
        "from sklearn.metrics import accuracy_score # Performance measure – Accuracy\n",
        "from sklearn.svm import SVC # For support vector machine based classifier\n",
        "from sklearn import preprocessing"
      ]
    },
    {
      "cell_type": "code",
      "source": [
        "updated_df = pd.read_pickle('updated_df.pkl')"
      ],
      "metadata": {
        "id": "v0t3J2fh5CSJ"
      },
      "execution_count": null,
      "outputs": []
    },
    {
      "cell_type": "code",
      "source": [
        "update_x = updated_df.drop(['personal_loan','age','yrs_experience','family_size','credit_card_acct','share_trading_acct','online_acct'], axis=1)\n",
        "Y = updated_df['personal_loan']"
      ],
      "metadata": {
        "id": "gbB7IDmB2wqn"
      },
      "execution_count": null,
      "outputs": []
    },
    {
      "cell_type": "code",
      "source": [
        "update_x = preprocessing.scale(update_x)"
      ],
      "metadata": {
        "id": "_x8E7Qdb22U6"
      },
      "execution_count": null,
      "outputs": []
    },
    {
      "cell_type": "code",
      "source": [
        "x_train, x_test, y_train, y_test = train_test_split(update_x, Y, test_size=0.33, random_state=1)"
      ],
      "metadata": {
        "id": "_uEZ9PVp25Yh"
      },
      "execution_count": null,
      "outputs": []
    },
    {
      "cell_type": "code",
      "source": [
        "# create model using constructor\n",
        "SVMModel = SVC() # Calling default constructor\n",
        "# fit the model to training set\n",
        "SVMModel.fit(x_train,y_train)\n",
        "# Predict the test data to get y_pred\n",
        "y_pred = SVMModel.predict(x_test)\n",
        "# get accuracy of model\n",
        "svm_acc_score = accuracy_score(y_test,y_pred)\n",
        "# get F1-score of model\n",
        "svm_f1_score = f1_score(y_test,y_pred) \n",
        "# get the confusion matrix\n",
        "svm_confmat = confusion_matrix(y_test,y_pred)\n",
        "# get the classification report\n",
        "svm_classrep = classification_report(y_test,y_pred)\n",
        "\n",
        "print(\"The accuracy of the model is {} %\".format(svm_acc_score*100))\n",
        "print(\"The f1-score of the model is {} %\".format(svm_f1_score*100))\n",
        "print(\"The confusion matrix for SVM classifier is: \\n\",svm_confmat)\n",
        "print(\"Detailed classification report for SVM classifier is: \\n\",svm_classrep)"
      ],
      "metadata": {
        "colab": {
          "base_uri": "https://localhost:8080/"
        },
        "id": "8biR-rPG29rW",
        "outputId": "bd41c5b0-93af-439c-bcf5-f57a5ccecd0d"
      },
      "execution_count": null,
      "outputs": [
        {
          "output_type": "stream",
          "name": "stdout",
          "text": [
            "The accuracy of the model is 91.71332586786114 %\n",
            "The f1-score of the model is 72.4907063197026 %\n",
            "The confusion matrix for SVM classifier is: \n",
            " [[1443   51]\n",
            " [  97  195]]\n",
            "Detailed classification report for SVM classifier is: \n",
            "               precision    recall  f1-score   support\n",
            "\n",
            "           0       0.94      0.97      0.95      1494\n",
            "           1       0.79      0.67      0.72       292\n",
            "\n",
            "    accuracy                           0.92      1786\n",
            "   macro avg       0.86      0.82      0.84      1786\n",
            "weighted avg       0.91      0.92      0.91      1786\n",
            "\n"
          ]
        }
      ]
    }
  ]
}