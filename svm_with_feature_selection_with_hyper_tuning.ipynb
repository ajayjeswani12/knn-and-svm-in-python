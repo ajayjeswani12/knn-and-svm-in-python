{
  "nbformat": 4,
  "nbformat_minor": 0,
  "metadata": {
    "colab": {
      "name": "svm with feature selection with hyper tuning.ipynb",
      "provenance": []
    },
    "kernelspec": {
      "name": "python3",
      "display_name": "Python 3"
    },
    "language_info": {
      "name": "python"
    }
  },
  "cells": [
    {
      "cell_type": "code",
      "execution_count": 1,
      "metadata": {
        "colab": {
          "base_uri": "https://localhost:8080/"
        },
        "id": "TpovEGuc01Zi",
        "outputId": "a6b4dca3-4216-4141-bce4-41a29f573232"
      },
      "outputs": [
        {
          "output_type": "stream",
          "name": "stderr",
          "text": [
            "/usr/local/lib/python3.7/dist-packages/statsmodels/tools/_testing.py:19: FutureWarning: pandas.util.testing is deprecated. Use the functions in the public API at pandas.testing instead.\n",
            "  import pandas.util.testing as tm\n"
          ]
        }
      ],
      "source": [
        "import pandas as pd\n",
        "import numpy as np\n",
        "import seaborn as sns\n",
        "import matplotlib.pyplot as plt\n",
        "%matplotlib inline\n",
        "\n",
        "from sklearn.model_selection import train_test_split\n",
        "\n",
        "import statsmodels.api as sm\n",
        "\n",
        "from scipy import stats\n",
        "\n",
        "from sklearn import metrics\n",
        "from sklearn.linear_model import LogisticRegression\n",
        "from sklearn.neighbors import KNeighborsClassifier\n",
        "# To model the Gaussian Navie Bayes classifier\n",
        "from sklearn.naive_bayes import GaussianNB\n",
        "from sklearn.metrics import classification_report,confusion_matrix,f1_score\n",
        "from sklearn.metrics import accuracy_score # Performance measure – Accuracy\n",
        "from sklearn.svm import SVC # For support vector machine based classifier\n",
        "from sklearn import preprocessing"
      ]
    },
    {
      "cell_type": "code",
      "source": [
        "updated_df = pd.read_pickle('updated_df.pkl')"
      ],
      "metadata": {
        "id": "SWJVXCw41BEx"
      },
      "execution_count": 2,
      "outputs": []
    },
    {
      "cell_type": "code",
      "source": [
        "update_x = updated_df.drop(['personal_loan','age','yrs_experience','family_size','credit_card_acct','share_trading_acct','online_acct'], axis=1)\n",
        "Y = updated_df['personal_loan']\n"
      ],
      "metadata": {
        "id": "uxPtCaA11N7c"
      },
      "execution_count": 3,
      "outputs": []
    },
    {
      "cell_type": "code",
      "source": [
        "update_x = preprocessing.scale(update_x)"
      ],
      "metadata": {
        "id": "FkVIxbU61QfO"
      },
      "execution_count": 4,
      "outputs": []
    },
    {
      "cell_type": "code",
      "source": [
        "x_train, x_test, y_train, y_test = train_test_split(update_x, Y, test_size=0.33, random_state=1)"
      ],
      "metadata": {
        "id": "ki6m-Be_1TkB"
      },
      "execution_count": 5,
      "outputs": []
    },
    {
      "cell_type": "code",
      "source": [
        "svm_acc=[]\n",
        "svm_f1 = []\n",
        "for i in range(1,1000,100):\n",
        "    print(\"Calculating the SVM classifier accuracy for C = {}.\".format(i))\n",
        "    # create model using constructor\n",
        "    SVMModel = SVC(C=i) # Calling default constructor\n",
        "    # fit the model to training set\n",
        "    SVMModel.fit(x_train,y_train)\n",
        "    # Predict the test data to get y_pred\n",
        "    y_pred = SVMModel.predict(x_test)\n",
        "    # get accuracy of model\n",
        "    svm_acc_score = accuracy_score(y_test,y_pred)\n",
        "    svm_acc.append(svm_acc_score*100)\n",
        "    # get F1-score of model\n",
        "    svm_f1_score = f1_score(y_test,y_pred) \n",
        "    svm_f1.append(svm_f1_score*100)\n",
        "df_svm = pd.DataFrame({'C':list(range(1,1000,100)), 'Accuracy':svm_acc,'f1-score':svm_f1})"
      ],
      "metadata": {
        "colab": {
          "base_uri": "https://localhost:8080/"
        },
        "id": "BbZpxQZv1WPu",
        "outputId": "3e15cfbf-957f-4bbc-a2ee-a760fa759df7"
      },
      "execution_count": 6,
      "outputs": [
        {
          "output_type": "stream",
          "name": "stdout",
          "text": [
            "Calculating the SVM classifier accuracy for C = 1.\n",
            "Calculating the SVM classifier accuracy for C = 101.\n",
            "Calculating the SVM classifier accuracy for C = 201.\n",
            "Calculating the SVM classifier accuracy for C = 301.\n",
            "Calculating the SVM classifier accuracy for C = 401.\n",
            "Calculating the SVM classifier accuracy for C = 501.\n",
            "Calculating the SVM classifier accuracy for C = 601.\n",
            "Calculating the SVM classifier accuracy for C = 701.\n",
            "Calculating the SVM classifier accuracy for C = 801.\n",
            "Calculating the SVM classifier accuracy for C = 901.\n"
          ]
        }
      ]
    },
    {
      "cell_type": "code",
      "source": [
        "df_svm"
      ],
      "metadata": {
        "colab": {
          "base_uri": "https://localhost:8080/",
          "height": 363
        },
        "id": "n2YOud-G1l9M",
        "outputId": "ad96d7d9-722b-4662-cc3c-d98d9c4c2d48"
      },
      "execution_count": 7,
      "outputs": [
        {
          "output_type": "execute_result",
          "data": {
            "text/plain": [
              "     C   Accuracy   f1-score\n",
              "0    1  91.713326  72.490706\n",
              "1  101  91.545353  72.394881\n",
              "2  201  91.433371  71.614100\n",
              "3  301  91.377380  71.481481\n",
              "4  401  91.265398  71.003717\n",
              "5  501  91.265398  71.003717\n",
              "6  601  91.097424  70.609982\n",
              "7  701  91.097424  70.609982\n",
              "8  801  91.097424  70.500928\n",
              "9  901  91.153415  70.740741"
            ],
            "text/html": [
              "\n",
              "  <div id=\"df-45c804a0-04ce-4398-8c40-720b620c513b\">\n",
              "    <div class=\"colab-df-container\">\n",
              "      <div>\n",
              "<style scoped>\n",
              "    .dataframe tbody tr th:only-of-type {\n",
              "        vertical-align: middle;\n",
              "    }\n",
              "\n",
              "    .dataframe tbody tr th {\n",
              "        vertical-align: top;\n",
              "    }\n",
              "\n",
              "    .dataframe thead th {\n",
              "        text-align: right;\n",
              "    }\n",
              "</style>\n",
              "<table border=\"1\" class=\"dataframe\">\n",
              "  <thead>\n",
              "    <tr style=\"text-align: right;\">\n",
              "      <th></th>\n",
              "      <th>C</th>\n",
              "      <th>Accuracy</th>\n",
              "      <th>f1-score</th>\n",
              "    </tr>\n",
              "  </thead>\n",
              "  <tbody>\n",
              "    <tr>\n",
              "      <th>0</th>\n",
              "      <td>1</td>\n",
              "      <td>91.713326</td>\n",
              "      <td>72.490706</td>\n",
              "    </tr>\n",
              "    <tr>\n",
              "      <th>1</th>\n",
              "      <td>101</td>\n",
              "      <td>91.545353</td>\n",
              "      <td>72.394881</td>\n",
              "    </tr>\n",
              "    <tr>\n",
              "      <th>2</th>\n",
              "      <td>201</td>\n",
              "      <td>91.433371</td>\n",
              "      <td>71.614100</td>\n",
              "    </tr>\n",
              "    <tr>\n",
              "      <th>3</th>\n",
              "      <td>301</td>\n",
              "      <td>91.377380</td>\n",
              "      <td>71.481481</td>\n",
              "    </tr>\n",
              "    <tr>\n",
              "      <th>4</th>\n",
              "      <td>401</td>\n",
              "      <td>91.265398</td>\n",
              "      <td>71.003717</td>\n",
              "    </tr>\n",
              "    <tr>\n",
              "      <th>5</th>\n",
              "      <td>501</td>\n",
              "      <td>91.265398</td>\n",
              "      <td>71.003717</td>\n",
              "    </tr>\n",
              "    <tr>\n",
              "      <th>6</th>\n",
              "      <td>601</td>\n",
              "      <td>91.097424</td>\n",
              "      <td>70.609982</td>\n",
              "    </tr>\n",
              "    <tr>\n",
              "      <th>7</th>\n",
              "      <td>701</td>\n",
              "      <td>91.097424</td>\n",
              "      <td>70.609982</td>\n",
              "    </tr>\n",
              "    <tr>\n",
              "      <th>8</th>\n",
              "      <td>801</td>\n",
              "      <td>91.097424</td>\n",
              "      <td>70.500928</td>\n",
              "    </tr>\n",
              "    <tr>\n",
              "      <th>9</th>\n",
              "      <td>901</td>\n",
              "      <td>91.153415</td>\n",
              "      <td>70.740741</td>\n",
              "    </tr>\n",
              "  </tbody>\n",
              "</table>\n",
              "</div>\n",
              "      <button class=\"colab-df-convert\" onclick=\"convertToInteractive('df-45c804a0-04ce-4398-8c40-720b620c513b')\"\n",
              "              title=\"Convert this dataframe to an interactive table.\"\n",
              "              style=\"display:none;\">\n",
              "        \n",
              "  <svg xmlns=\"http://www.w3.org/2000/svg\" height=\"24px\"viewBox=\"0 0 24 24\"\n",
              "       width=\"24px\">\n",
              "    <path d=\"M0 0h24v24H0V0z\" fill=\"none\"/>\n",
              "    <path d=\"M18.56 5.44l.94 2.06.94-2.06 2.06-.94-2.06-.94-.94-2.06-.94 2.06-2.06.94zm-11 1L8.5 8.5l.94-2.06 2.06-.94-2.06-.94L8.5 2.5l-.94 2.06-2.06.94zm10 10l.94 2.06.94-2.06 2.06-.94-2.06-.94-.94-2.06-.94 2.06-2.06.94z\"/><path d=\"M17.41 7.96l-1.37-1.37c-.4-.4-.92-.59-1.43-.59-.52 0-1.04.2-1.43.59L10.3 9.45l-7.72 7.72c-.78.78-.78 2.05 0 2.83L4 21.41c.39.39.9.59 1.41.59.51 0 1.02-.2 1.41-.59l7.78-7.78 2.81-2.81c.8-.78.8-2.07 0-2.86zM5.41 20L4 18.59l7.72-7.72 1.47 1.35L5.41 20z\"/>\n",
              "  </svg>\n",
              "      </button>\n",
              "      \n",
              "  <style>\n",
              "    .colab-df-container {\n",
              "      display:flex;\n",
              "      flex-wrap:wrap;\n",
              "      gap: 12px;\n",
              "    }\n",
              "\n",
              "    .colab-df-convert {\n",
              "      background-color: #E8F0FE;\n",
              "      border: none;\n",
              "      border-radius: 50%;\n",
              "      cursor: pointer;\n",
              "      display: none;\n",
              "      fill: #1967D2;\n",
              "      height: 32px;\n",
              "      padding: 0 0 0 0;\n",
              "      width: 32px;\n",
              "    }\n",
              "\n",
              "    .colab-df-convert:hover {\n",
              "      background-color: #E2EBFA;\n",
              "      box-shadow: 0px 1px 2px rgba(60, 64, 67, 0.3), 0px 1px 3px 1px rgba(60, 64, 67, 0.15);\n",
              "      fill: #174EA6;\n",
              "    }\n",
              "\n",
              "    [theme=dark] .colab-df-convert {\n",
              "      background-color: #3B4455;\n",
              "      fill: #D2E3FC;\n",
              "    }\n",
              "\n",
              "    [theme=dark] .colab-df-convert:hover {\n",
              "      background-color: #434B5C;\n",
              "      box-shadow: 0px 1px 3px 1px rgba(0, 0, 0, 0.15);\n",
              "      filter: drop-shadow(0px 1px 2px rgba(0, 0, 0, 0.3));\n",
              "      fill: #FFFFFF;\n",
              "    }\n",
              "  </style>\n",
              "\n",
              "      <script>\n",
              "        const buttonEl =\n",
              "          document.querySelector('#df-45c804a0-04ce-4398-8c40-720b620c513b button.colab-df-convert');\n",
              "        buttonEl.style.display =\n",
              "          google.colab.kernel.accessAllowed ? 'block' : 'none';\n",
              "\n",
              "        async function convertToInteractive(key) {\n",
              "          const element = document.querySelector('#df-45c804a0-04ce-4398-8c40-720b620c513b');\n",
              "          const dataTable =\n",
              "            await google.colab.kernel.invokeFunction('convertToInteractive',\n",
              "                                                     [key], {});\n",
              "          if (!dataTable) return;\n",
              "\n",
              "          const docLinkHtml = 'Like what you see? Visit the ' +\n",
              "            '<a target=\"_blank\" href=https://colab.research.google.com/notebooks/data_table.ipynb>data table notebook</a>'\n",
              "            + ' to learn more about interactive tables.';\n",
              "          element.innerHTML = '';\n",
              "          dataTable['output_type'] = 'display_data';\n",
              "          await google.colab.output.renderOutput(dataTable, element);\n",
              "          const docLink = document.createElement('div');\n",
              "          docLink.innerHTML = docLinkHtml;\n",
              "          element.appendChild(docLink);\n",
              "        }\n",
              "      </script>\n",
              "    </div>\n",
              "  </div>\n",
              "  "
            ]
          },
          "metadata": {},
          "execution_count": 7
        }
      ]
    }
  ]
}